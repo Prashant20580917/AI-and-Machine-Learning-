{
  "nbformat": 4,
  "nbformat_minor": 0,
  "metadata": {
    "colab": {
      "provenance": []
    },
    "kernelspec": {
      "name": "python3",
      "display_name": "Python 3"
    },
    "language_info": {
      "name": "python"
    }
  },
  "cells": [
    {
      "cell_type": "markdown",
      "source": [
        "Name: Prashant Pakuwal\n",
        "ID: 2357806\n"
      ],
      "metadata": {
        "id": "pqxTHHqE70jf"
      }
    },
    {
      "cell_type": "markdown",
      "source": [
        "Task: 1"
      ],
      "metadata": {
        "id": "3INBPJVt7_lU"
      }
    },
    {
      "cell_type": "code",
      "execution_count": null,
      "metadata": {
        "colab": {
          "base_uri": "https://localhost:8080/"
        },
        "id": "KfXaHnof6Og8",
        "outputId": "0fbf84a8-d601-4dce-c5ef-3f05430816fa"
      },
      "outputs": [
        {
          "output_type": "stream",
          "name": "stdout",
          "text": [
            "Choose conversion type: \n",
            "1. Length \n",
            "2. Weight \n",
            "3. Volume\n",
            "Enter choice (1/2/3): 1\n",
            "Enter value to convert: 100\n",
            "Enter unit (m/ft): m\n",
            "Converted value: 328.08 ft\n"
          ]
        }
      ],
      "source": [
        "def convert_length(value, unit):\n",
        "    \"\"\"\n",
        "    Converts length between meters and feet.\n",
        "\n",
        "    Parameters:\n",
        "    value (float): The numerical value to convert.\n",
        "    unit (str): The unit of the input value ('m' for meters, 'ft' for feet).\n",
        "\n",
        "    Returns:\n",
        "    tuple: Converted value and its unit.\n",
        "    \"\"\"\n",
        "    if unit == 'm':\n",
        "        return value * 3.28084, 'ft'\n",
        "    elif unit == 'ft':\n",
        "        return value / 3.28084, 'm'\n",
        "    else:\n",
        "        raise ValueError(\"Invalid length unit. Choose 'm' or 'ft'.\")\n",
        "\n",
        "def convert_weight(value, unit):\n",
        "    \"\"\"\n",
        "    Converts weight between kilograms and pounds.\n",
        "\n",
        "    Parameters:\n",
        "    value (float): The numerical value to convert.\n",
        "    unit (str): The unit of the input value ('kg' for kilograms, 'lbs' for pounds).\n",
        "\n",
        "    Returns:\n",
        "    tuple: Converted value and its unit.\n",
        "    \"\"\"\n",
        "    if unit == 'kg':\n",
        "        return value * 2.20462, 'lbs'\n",
        "    elif unit == 'lbs':\n",
        "        return value / 2.20462, 'kg'\n",
        "    else:\n",
        "        raise ValueError(\"Invalid weight unit. Choose 'kg' or 'lbs'.\")\n",
        "\n",
        "def convert_volume(value, unit):\n",
        "    \"\"\"\n",
        "    Converts volume between liters and gallons.\n",
        "\n",
        "    Parameters:\n",
        "    value (float): The numerical value to convert.\n",
        "    unit (str): The unit of the input value ('L' for liters, 'gal' for gallons).\n",
        "\n",
        "    Returns:\n",
        "    tuple: Converted value and its unit.\n",
        "    \"\"\"\n",
        "    if unit == 'L':\n",
        "        return value * 0.264172, 'gal'\n",
        "    elif unit == 'gal':\n",
        "        return value / 0.264172, 'L'\n",
        "    else:\n",
        "        raise ValueError(\"Invalid volume unit. Choose 'L' or 'gal'.\")\n",
        "\n",
        "def main():\n",
        "    try:\n",
        "        print(\"Choose conversion type: \\n1. Length \\n2. Weight \\n3. Volume\")\n",
        "        choice = input(\"Enter choice (1/2/3): \").strip()\n",
        "\n",
        "        if choice not in ('1', '2', '3'):\n",
        "            print(\"Invalid choice. Please enter 1, 2, or 3.\")\n",
        "            return\n",
        "\n",
        "        value = float(input(\"Enter value to convert: \").strip())\n",
        "\n",
        "        if choice == '1':\n",
        "            unit = input(\"Enter unit (m/ft): \").strip().lower()\n",
        "            result, result_unit = convert_length(value, unit)\n",
        "        elif choice == '2':\n",
        "            unit = input(\"Enter unit (kg/lbs): \").strip().lower()\n",
        "            result, result_unit = convert_weight(value, unit)\n",
        "        elif choice == '3':\n",
        "            unit = input(\"Enter unit (L/gal): \").strip().lower()\n",
        "            result, result_unit = convert_volume(value, unit)\n",
        "\n",
        "        print(f\"Converted value: {result:.2f} {result_unit}\")\n",
        "\n",
        "    except ValueError as e:\n",
        "        print(f\"Error: {e}\")\n",
        "    except Exception as e:\n",
        "        print(f\"Unexpected error: {e}\")\n",
        "\n",
        "if __name__ == \"__main__\":\n",
        "    main()\n"
      ]
    },
    {
      "cell_type": "markdown",
      "source": [
        "Task: 2"
      ],
      "metadata": {
        "id": "Z40sDmvx9fDD"
      }
    },
    {
      "cell_type": "code",
      "source": [
        "def calculate_sum(numbers):\n",
        "    \"\"\"\n",
        "    Returns the sum of a list of numbers.\n",
        "\n",
        "    Parameters:\n",
        "    numbers (list of float): The list of numbers.\n",
        "\n",
        "    Returns:\n",
        "    float: The sum of the numbers.\n",
        "    \"\"\"\n",
        "    return sum(numbers)\n",
        "\n",
        "def calculate_average(numbers):\n",
        "    \"\"\"\n",
        "    Returns the average of a list of numbers.\n",
        "\n",
        "    Parameters:\n",
        "    numbers (list of float): The list of numbers.\n",
        "\n",
        "    Returns:\n",
        "    float: The average of the numbers.\n",
        "    \"\"\"\n",
        "    if len(numbers) == 0:\n",
        "        raise ValueError(\"Cannot calculate average of an empty list.\")\n",
        "    return sum(numbers) / len(numbers)\n",
        "\n",
        "def find_maximum(numbers):\n",
        "    \"\"\"\n",
        "    Returns the maximum value from a list of numbers.\n",
        "\n",
        "    Parameters:\n",
        "    numbers (list of float): The list of numbers.\n",
        "\n",
        "    Returns:\n",
        "    float: The maximum number in the list.\n",
        "    \"\"\"\n",
        "    if len(numbers) == 0:\n",
        "        raise ValueError(\"Cannot find maximum of an empty list.\")\n",
        "    return max(numbers)\n",
        "\n",
        "def find_minimum(numbers):\n",
        "    \"\"\"\n",
        "    Returns the minimum value from a list of numbers.\n",
        "\n",
        "    Parameters:\n",
        "    numbers (list of float): The list of numbers.\n",
        "\n",
        "    Returns:\n",
        "    float: The minimum number in the list.\n",
        "    \"\"\"\n",
        "    if len(numbers) == 0:\n",
        "        raise ValueError(\"Cannot find minimum of an empty list.\")\n",
        "    return min(numbers)\n",
        "\n",
        "def main():\n",
        "    try:\n",
        "        print(\"Choose an operation: \\n1. Sum \\n2. Average \\n3. Maximum \\n4. Minimum\")\n",
        "        choice = input(\"Enter choice (1/2/3/4): \").strip()\n",
        "\n",
        "        if choice not in ('1', '2', '3', '4'):\n",
        "            print(\"Invalid choice. Please enter 1, 2, 3, or 4.\")\n",
        "            return\n",
        "\n",
        "        numbers_input = input(\"Enter a list of numbers separated by spaces: \").strip()\n",
        "        numbers = [float(num) for num in numbers_input.split()]\n",
        "\n",
        "        if choice == '1':\n",
        "            result = calculate_sum(numbers)\n",
        "        elif choice == '2':\n",
        "            result = calculate_average(numbers)\n",
        "        elif choice == '3':\n",
        "            result = find_maximum(numbers)\n",
        "        elif choice == '4':\n",
        "            result = find_minimum(numbers)\n",
        "\n",
        "        print(f\"Result: {result:.2f}\")\n",
        "\n",
        "    except ValueError as e:\n",
        "        print(f\"Error: {e}\")\n",
        "    except Exception as e:\n",
        "        print(f\"Unexpected error: {e}\")\n",
        "\n",
        "if __name__ == \"__main__\":\n",
        "    main()\n"
      ],
      "metadata": {
        "colab": {
          "base_uri": "https://localhost:8080/"
        },
        "id": "LZ8NOdi99gV3",
        "outputId": "70ec2b5f-fd37-49a3-b6e5-5d8b23ca603f"
      },
      "execution_count": null,
      "outputs": [
        {
          "output_type": "stream",
          "name": "stdout",
          "text": [
            "Choose an operation: \n",
            "1. Sum \n",
            "2. Average \n",
            "3. Maximum \n",
            "4. Minimum\n",
            "Enter choice (1/2/3/4): 1\n",
            "Enter a list of numbers separated by spaces: 10 8\n",
            "Result: 18.00\n"
          ]
        }
      ]
    },
    {
      "cell_type": "markdown",
      "source": [
        "4.2 Exercise on List Manipulation:"
      ],
      "metadata": {
        "id": "2ydivYSr_f_i"
      }
    },
    {
      "cell_type": "markdown",
      "source": [
        "1. Extract Every Other Element:"
      ],
      "metadata": {
        "id": "2N9imLlZ9yoy"
      }
    },
    {
      "cell_type": "code",
      "source": [
        "def extract_every_other(lst):\n",
        "    \"\"\"\n",
        "    Extracts every other element from a list, starting from the first element.\n",
        "\n",
        "    Parameters:\n",
        "    lst (list): The input list.\n",
        "\n",
        "    Returns:\n",
        "    list: A new list containing every other element from the original list.\n",
        "    \"\"\"\n",
        "    return lst[::2]\n",
        "\n",
        "example_list = [1, 2, 3, 4, 5, 6]\n",
        "result = extract_every_other(example_list)\n",
        "print(\"Extracted elements:\", result)\n"
      ],
      "metadata": {
        "colab": {
          "base_uri": "https://localhost:8080/"
        },
        "id": "kLCa2JPW9z0x",
        "outputId": "ade6180b-4a07-4cd1-b79d-0e360d806c42"
      },
      "execution_count": null,
      "outputs": [
        {
          "output_type": "stream",
          "name": "stdout",
          "text": [
            "Extracted elements: [1, 3, 5]\n"
          ]
        }
      ]
    },
    {
      "cell_type": "markdown",
      "source": [
        "2. Slice a Sublist:"
      ],
      "metadata": {
        "id": "tBykEZeM-Qdk"
      }
    },
    {
      "cell_type": "code",
      "source": [
        "def get_sublist(lst, start, end):\n",
        "    \"\"\"\n",
        "    Returns a sublist from a given list, starting from the specified index and ending at another specified index (inclusive).\n",
        "\n",
        "    Parameters:\n",
        "    lst (list): The input list.\n",
        "    start (int): The starting index.\n",
        "    end (int): The ending index (inclusive).\n",
        "\n",
        "    Returns:\n",
        "    list: A sublist from start to end indices.\n",
        "    \"\"\"\n",
        "    if start < 0 or end >= len(lst) or start > end:\n",
        "        raise ValueError(\"Invalid start or end index.\")\n",
        "    return lst[start:end+1]\n",
        "\n",
        "# Example usage:\n",
        "example_list = [1, 2, 3, 4, 5, 6]\n",
        "start_index = 2\n",
        "end_index = 4\n",
        "result = get_sublist(example_list, start_index, end_index)\n",
        "print(\"Sublist:\", result)"
      ],
      "metadata": {
        "colab": {
          "base_uri": "https://localhost:8080/"
        },
        "id": "cQZKAIDr-Q_n",
        "outputId": "7cfc6fcf-3f57-40cf-ca9d-8e0b0492dfae"
      },
      "execution_count": null,
      "outputs": [
        {
          "output_type": "stream",
          "name": "stdout",
          "text": [
            "Sublist: [3, 4, 5]\n"
          ]
        }
      ]
    },
    {
      "cell_type": "markdown",
      "source": [
        "3. Reverse a List Using Slicing:"
      ],
      "metadata": {
        "id": "AZEf2Xyb-fFD"
      }
    },
    {
      "cell_type": "code",
      "source": [
        "def reverse_list(lst):\n",
        "    \"\"\"\n",
        "    Reverses a list using slicing.\n",
        "\n",
        "    Parameters:\n",
        "    lst (list): The input list.\n",
        "\n",
        "    Returns:\n",
        "    list: A new list with elements in reverse order.\n",
        "    \"\"\"\n",
        "    return lst[::-1]\n",
        "\n",
        "example_list = [1, 2, 3, 4, 5]\n",
        "result = reverse_list(example_list)\n",
        "print(\"Reversed list:\", result)\n"
      ],
      "metadata": {
        "colab": {
          "base_uri": "https://localhost:8080/"
        },
        "id": "YOYOVDLZ-kgE",
        "outputId": "f5ce0f99-e813-4158-a5c5-99be76454555"
      },
      "execution_count": null,
      "outputs": [
        {
          "output_type": "stream",
          "name": "stdout",
          "text": [
            "Reversed list: [5, 4, 3, 2, 1]\n"
          ]
        }
      ]
    },
    {
      "cell_type": "markdown",
      "source": [
        "4. Remove the First and Last Elements:"
      ],
      "metadata": {
        "id": "Pzpm5vet-u8v"
      }
    },
    {
      "cell_type": "code",
      "source": [
        "def remove_first_last(lst):\n",
        "    \"\"\"\n",
        "    Removes the first and last elements of a list and returns the resulting sublist.\n",
        "\n",
        "    Parameters:\n",
        "    lst (list): The input list.\n",
        "\n",
        "    Returns:\n",
        "    list: A sublist without the first and last elements.\n",
        "    \"\"\"\n",
        "    if len(lst) < 2:\n",
        "        raise ValueError(\"List must have at least two elements to remove first and last.\")\n",
        "    return lst[1:-1]\n",
        "\n",
        "example_list = [1, 2, 3, 4, 5]\n",
        "result = remove_first_last(example_list)\n",
        "print(\"Sublist after removing first and last elements:\", result)"
      ],
      "metadata": {
        "colab": {
          "base_uri": "https://localhost:8080/"
        },
        "id": "lkUyaDqX-viz",
        "outputId": "f6b639cc-d32e-4ffb-f1ba-89f93c5020ea"
      },
      "execution_count": null,
      "outputs": [
        {
          "output_type": "stream",
          "name": "stdout",
          "text": [
            "Sublist after removing first and last elements: [2, 3, 4]\n"
          ]
        }
      ]
    },
    {
      "cell_type": "markdown",
      "source": [
        "5. Get the First n Elements:"
      ],
      "metadata": {
        "id": "iOR4KwSm-8hS"
      }
    },
    {
      "cell_type": "code",
      "source": [
        "def get_first_n(lst, n):\n",
        "    \"\"\"\n",
        "    Extracts the first n elements from a list.\n",
        "\n",
        "    Parameters:\n",
        "    lst (list): The input list.\n",
        "    n (int): The number of elements to extract.\n",
        "\n",
        "    Returns:\n",
        "    list: A new list containing the first n elements.\n",
        "    \"\"\"\n",
        "    if n < 0:\n",
        "        raise ValueError(\"n must be a non-negative integer.\")\n",
        "    return lst[:n]\n",
        "\n",
        "# Example usage:\n",
        "example_list = [1, 2, 3, 4, 5]\n",
        "n = 3\n",
        "result = get_first_n(example_list, n)\n",
        "print(\"First\", n, \"elements:\", result)"
      ],
      "metadata": {
        "colab": {
          "base_uri": "https://localhost:8080/"
        },
        "id": "l4mlUQ-L-9B2",
        "outputId": "87a9c8c7-1a21-41bd-ead5-8d9320f1e7d0"
      },
      "execution_count": null,
      "outputs": [
        {
          "output_type": "stream",
          "name": "stdout",
          "text": [
            "First 3 elements: [1, 2, 3]\n"
          ]
        }
      ]
    },
    {
      "cell_type": "markdown",
      "source": [
        "6. Extract Elements from the End:"
      ],
      "metadata": {
        "id": "29D_UZFf_Hh0"
      }
    },
    {
      "cell_type": "code",
      "source": [
        "def get_last_n(lst, n):\n",
        "    \"\"\"\n",
        "    Extracts the last n elements from a list.\n",
        "\n",
        "    Parameters:\n",
        "    lst (list): The input list.\n",
        "    n (int): The number of elements to extract from the end.\n",
        "\n",
        "    Returns:\n",
        "    list: A new list containing the last n elements.\n",
        "    \"\"\"\n",
        "    if n < 0:\n",
        "        raise ValueError(\"n must be a non-negative integer.\")\n",
        "    return lst[-n:] if n else []\n",
        "\n",
        "example_list = [1, 2, 3, 4, 5]\n",
        "n = 2\n",
        "result = get_last_n(example_list, n)\n",
        "print(\"Last\", n, \"elements:\", result)"
      ],
      "metadata": {
        "colab": {
          "base_uri": "https://localhost:8080/"
        },
        "id": "YhlXh-l-_ICF",
        "outputId": "0446009a-6db2-40d6-f90a-2dd97e9b5784"
      },
      "execution_count": null,
      "outputs": [
        {
          "output_type": "stream",
          "name": "stdout",
          "text": [
            "Last 2 elements: [4, 5]\n"
          ]
        }
      ]
    },
    {
      "cell_type": "markdown",
      "source": [
        "7. Extract Elements in Reverse Order:"
      ],
      "metadata": {
        "id": "9VBTOFPB_Rgd"
      }
    },
    {
      "cell_type": "code",
      "source": [
        "def reverse_skip(lst):\n",
        "    \"\"\"\n",
        "    Extracts elements in reverse order, starting from the second-to-last element and skipping one in between.\n",
        "\n",
        "    Parameters:\n",
        "    lst (list): The input list.\n",
        "\n",
        "    Returns:\n",
        "    list: A new list containing every second element from the second-to-last, moving backward.\n",
        "    \"\"\"\n",
        "    return lst[-2::-2]\n",
        "\n",
        "example_list = [1, 2, 3, 4, 5, 6]\n",
        "result = reverse_skip(example_list)\n",
        "print(\"Extracted elements in reverse order:\", result)"
      ],
      "metadata": {
        "colab": {
          "base_uri": "https://localhost:8080/"
        },
        "id": "STJU7Jyr_SCN",
        "outputId": "d1904d6a-d874-4a47-d394-87f90c3f6af2"
      },
      "execution_count": null,
      "outputs": [
        {
          "output_type": "stream",
          "name": "stdout",
          "text": [
            "Extracted elements in reverse order: [5, 3, 1]\n"
          ]
        }
      ]
    },
    {
      "cell_type": "markdown",
      "source": [
        "4.3 Exercise on Nested List:"
      ],
      "metadata": {
        "id": "dKQvdUdw_nlG"
      }
    },
    {
      "cell_type": "markdown",
      "source": [
        "1. Flatten a Nested List:"
      ],
      "metadata": {
        "id": "GTk5Xg1P_pYz"
      }
    },
    {
      "cell_type": "code",
      "source": [
        "def flatten(lst):\n",
        "    \"\"\"\n",
        "    Flattens a nested list into a single list.\n",
        "\n",
        "    Parameters:\n",
        "    lst (list): A nested list containing sublists.\n",
        "\n",
        "    Returns:\n",
        "    list: A flattened list with all elements in a single dimension.\n",
        "    \"\"\"\n",
        "    flat_list = []\n",
        "    for sublist in lst:\n",
        "        if isinstance(sublist, list):\n",
        "            flat_list.extend(sublist)\n",
        "        else:\n",
        "            flat_list.append(sublist)\n",
        "    return flat_list\n",
        "\n",
        "nested_list = [[1, 2], [3, 4], [5]]\n",
        "result = flatten(nested_list)\n",
        "print(\"Flattened list:\", result)"
      ],
      "metadata": {
        "colab": {
          "base_uri": "https://localhost:8080/"
        },
        "id": "wEACugCK_rSQ",
        "outputId": "d4c86668-b604-4f7a-8dc1-7a48b26e3799"
      },
      "execution_count": null,
      "outputs": [
        {
          "output_type": "stream",
          "name": "stdout",
          "text": [
            "Flattened list: [1, 2, 3, 4, 5]\n"
          ]
        }
      ]
    },
    {
      "cell_type": "markdown",
      "source": [
        "2. Accessing Nested List Elements:"
      ],
      "metadata": {
        "id": "d44JqfpE_2na"
      }
    },
    {
      "cell_type": "code",
      "source": [
        "def access_nested_element(lst, indices):\n",
        "    \"\"\"\n",
        "    Extracts a specific element from a nested list given its indices.\n",
        "\n",
        "    Parameters:\n",
        "    lst (list): A nested list.\n",
        "    indices (list of int): A list of indices to navigate the nested structure.\n",
        "\n",
        "    Returns:\n",
        "    any: The element at the specified position.\n",
        "    \"\"\"\n",
        "    element = lst\n",
        "    for index in indices:\n",
        "        if not isinstance(element, list) or index >= len(element):\n",
        "            raise IndexError(\"Invalid index provided.\")\n",
        "        element = element[index]\n",
        "    return element\n",
        "\n",
        "# Example usage:\n",
        "nested_list = [[1, 2, 3], [4, 5, 6], [7, 8, 9]]\n",
        "indices = [1, 2]\n",
        "result = access_nested_element(nested_list, indices)\n",
        "print(\"Accessed element:\", result)"
      ],
      "metadata": {
        "colab": {
          "base_uri": "https://localhost:8080/"
        },
        "id": "aaql9yZQ_3Fh",
        "outputId": "ca8302b0-0b97-4106-a7fd-d86d28811cf0"
      },
      "execution_count": null,
      "outputs": [
        {
          "output_type": "stream",
          "name": "stdout",
          "text": [
            "Accessed element: 6\n"
          ]
        }
      ]
    },
    {
      "cell_type": "markdown",
      "source": [
        "3. Sum of All Elements in a Nested List:"
      ],
      "metadata": {
        "id": "iN8e6eaNATFi"
      }
    },
    {
      "cell_type": "code",
      "source": [
        "def sum_nested(lst):\n",
        "    \"\"\"\n",
        "    Calculates the sum of all numbers in a nested list, regardless of depth.\n",
        "\n",
        "    Parameters:\n",
        "    lst (list): A nested list containing numbers and/or other lists.\n",
        "\n",
        "    Returns:\n",
        "    int/float: The sum of all numerical elements in the nested list.\n",
        "    \"\"\"\n",
        "    total = 0\n",
        "    for element in lst:\n",
        "        if isinstance(element, list):\n",
        "            total += sum_nested(element)  # Recursively sum nested lists\n",
        "        elif isinstance(element, (int, float)):\n",
        "            total += element\n",
        "        else:\n",
        "            raise ValueError(\"List contains non-numeric values.\")\n",
        "    return total\n",
        "\n",
        "nested_list = [[1, 2], [3, [4, 5]], 6]\n",
        "result = sum_nested(nested_list)\n",
        "print(\"Sum of all elements:\", result)"
      ],
      "metadata": {
        "colab": {
          "base_uri": "https://localhost:8080/"
        },
        "id": "kmPEP6onATiF",
        "outputId": "09dc5ee8-e03f-4a6d-ff6f-f2c19816dd5d"
      },
      "execution_count": null,
      "outputs": [
        {
          "output_type": "stream",
          "name": "stdout",
          "text": [
            "Sum of all elements: 21\n"
          ]
        }
      ]
    },
    {
      "cell_type": "markdown",
      "source": [
        "4. Remove Specific Element from a Nested List:"
      ],
      "metadata": {
        "id": "DgkVco46Ao8J"
      }
    },
    {
      "cell_type": "code",
      "source": [
        "def remove_element(lst, elem):\n",
        "    \"\"\"\n",
        "    Removes all occurrences of a specific element from a nested list.\n",
        "\n",
        "    Parameters:\n",
        "    lst (list): A nested list containing elements and/or other lists.\n",
        "    elem (any): The element to remove from the nested list.\n",
        "\n",
        "    Returns:\n",
        "    list: A new nested list with the specified element removed.\n",
        "    \"\"\"\n",
        "    result = []\n",
        "    for item in lst:\n",
        "        if isinstance(item, list):\n",
        "            filtered_sublist = remove_element(item, elem)\n",
        "            if filtered_sublist:  # Only append non-empty lists\n",
        "                result.append(filtered_sublist)\n",
        "        elif item != elem:\n",
        "            result.append(item)\n",
        "    return result\n",
        "\n",
        "nested_list = [[1, 2], [3, 2], [4, 5]]\n",
        "element_to_remove = 2\n",
        "result = remove_element(nested_list, element_to_remove)\n",
        "print(\"Modified nested list:\", result)"
      ],
      "metadata": {
        "colab": {
          "base_uri": "https://localhost:8080/"
        },
        "id": "qYblrMF-ApaU",
        "outputId": "591baf62-41d5-4da3-98a0-81734d29a2d0"
      },
      "execution_count": null,
      "outputs": [
        {
          "output_type": "stream",
          "name": "stdout",
          "text": [
            "Modified nested list: [[1], [3], [4, 5]]\n"
          ]
        }
      ]
    },
    {
      "cell_type": "markdown",
      "source": [
        "5. Find the Maximum Element in a Nested List:"
      ],
      "metadata": {
        "id": "XJGr4v9MA2os"
      }
    },
    {
      "cell_type": "code",
      "source": [
        "def find_max(lst):\n",
        "    \"\"\"\n",
        "    Finds the maximum element in a nested list, regardless of depth.\n",
        "\n",
        "    Parameters:\n",
        "    lst (list): A nested list containing numbers and/or other lists.\n",
        "\n",
        "    Returns:\n",
        "    int/float: The maximum numerical element in the nested list.\n",
        "    \"\"\"\n",
        "    max_value = float('-inf')\n",
        "\n",
        "    for item in lst:\n",
        "        if isinstance(item, list):\n",
        "            max_value = max(max_value, find_max(item))  # Recursively find the max in nested lists\n",
        "        elif isinstance(item, (int, float)):\n",
        "            max_value = max(max_value, item)\n",
        "        else:\n",
        "            raise ValueError(\"List contains non-numeric values.\")\n",
        "\n",
        "    if max_value == float('-inf'):\n",
        "        raise ValueError(\"List is empty or contains no numeric values.\")\n",
        "\n",
        "    return max_value\n",
        "\n",
        "nested_list = [[1, 2], [3, [4, 5]], 6]\n",
        "result = find_max(nested_list)\n",
        "print(\"Maximum element:\", result)"
      ],
      "metadata": {
        "colab": {
          "base_uri": "https://localhost:8080/"
        },
        "id": "8Xsvf9G1A4-M",
        "outputId": "53730ed4-94a4-4ad5-d744-0d8207ced5b5"
      },
      "execution_count": null,
      "outputs": [
        {
          "output_type": "stream",
          "name": "stdout",
          "text": [
            "Maximum element: 6\n"
          ]
        }
      ]
    },
    {
      "cell_type": "markdown",
      "source": [
        "6. Count Occurrences of an Element in a Nested List:"
      ],
      "metadata": {
        "id": "tENvk2SzBDxp"
      }
    },
    {
      "cell_type": "code",
      "source": [
        "def count_occurrences(lst, elem):\n",
        "    \"\"\"\n",
        "    Counts the occurrences of a specific element in a nested list.\n",
        "\n",
        "    Parameters:\n",
        "    lst (list): A nested list containing elements and/or other lists.\n",
        "    elem (any): The element to count occurrences of.\n",
        "\n",
        "    Returns:\n",
        "    int: The number of times the element appears in the nested list.\n",
        "    \"\"\"\n",
        "    count = 0\n",
        "    for item in lst:\n",
        "        if isinstance(item, list):\n",
        "            count += count_occurrences(item, elem)  # Recursively count occurrences in nested lists\n",
        "        elif item == elem:\n",
        "            count += 1\n",
        "    return count\n",
        "\n",
        "nested_list = [[1, 2], [2, 3], [2, 4]]\n",
        "element_to_count = 2\n",
        "result = count_occurrences(nested_list, element_to_count)\n",
        "print(\"Occurrences of\", element_to_count, \":\", result)\n"
      ],
      "metadata": {
        "colab": {
          "base_uri": "https://localhost:8080/"
        },
        "id": "UPjj2OD_BFc0",
        "outputId": "dbecc5b9-ce97-4f32-f3c3-a19a72a6ee50"
      },
      "execution_count": null,
      "outputs": [
        {
          "output_type": "stream",
          "name": "stdout",
          "text": [
            "Occurrences of 2 : 3\n"
          ]
        }
      ]
    },
    {
      "cell_type": "markdown",
      "source": [
        "7. Flatten a List of Lists of Lists:"
      ],
      "metadata": {
        "id": "_cDSZZQiBSPr"
      }
    },
    {
      "cell_type": "code",
      "source": [
        "def deep_flatten(lst):\n",
        "    \"\"\"\n",
        "    Flattens a deeply nested list into a single list, regardless of depth.\n",
        "\n",
        "    Parameters:\n",
        "    lst (list): A deeply nested list containing elements and/or other lists.\n",
        "\n",
        "    Returns:\n",
        "    list: A flattened list with all elements in a single dimension.\n",
        "    \"\"\"\n",
        "    flat_list = []\n",
        "    for item in lst:\n",
        "        if isinstance(item, list):\n",
        "            flat_list.extend(deep_flatten(item))  # Recursively flatten nested lists\n",
        "        else:\n",
        "            flat_list.append(item)\n",
        "    return flat_list\n",
        "\n",
        "nested_list = [[[1, 2], [3, 4]], [[5, 6], [7, 8]]]\n",
        "result = deep_flatten(nested_list)\n",
        "print(\"Flattened list:\", result)"
      ],
      "metadata": {
        "colab": {
          "base_uri": "https://localhost:8080/"
        },
        "id": "7eFHMY6oBSuc",
        "outputId": "d34bf09c-e3a5-4be5-f073-39616088334c"
      },
      "execution_count": null,
      "outputs": [
        {
          "output_type": "stream",
          "name": "stdout",
          "text": [
            "Flattened list: [1, 2, 3, 4, 5, 6, 7, 8]\n"
          ]
        }
      ]
    },
    {
      "cell_type": "markdown",
      "source": [
        "8. Nested List Average:"
      ],
      "metadata": {
        "id": "A5TxfzfmBfI_"
      }
    },
    {
      "cell_type": "code",
      "source": [
        "def average_nested(lst):\n",
        "    \"\"\"\n",
        "    Calculates the average of all elements in a nested list.\n",
        "\n",
        "    Parameters:\n",
        "    lst (list): A nested list containing numerical elements and/or other lists.\n",
        "\n",
        "    Returns:\n",
        "    float: The average of all numerical elements in the nested list.\n",
        "    \"\"\"\n",
        "    def flatten(lst):\n",
        "        \"\"\"Helper function to flatten a nested list.\"\"\"\n",
        "        flat_list = []\n",
        "        for item in lst:\n",
        "            if isinstance(item, list):\n",
        "                flat_list.extend(flatten(item))  # Recursively flatten nested lists\n",
        "            else:\n",
        "                flat_list.append(item)\n",
        "        return flat_list\n",
        "\n",
        "    flat_numbers = flatten(lst)\n",
        "    if not flat_numbers:\n",
        "        raise ValueError(\"Cannot calculate the average of an empty list.\")\n",
        "\n",
        "    return sum(flat_numbers) / len(flat_numbers)\n",
        "\n",
        "nested_list = [[1, 2], [3, 4], [5, 6]]\n",
        "result = average_nested(nested_list)\n",
        "print(\"Average of all elements:\", result)"
      ],
      "metadata": {
        "colab": {
          "base_uri": "https://localhost:8080/"
        },
        "id": "P5x7ZGa7BfoB",
        "outputId": "30a4b5f7-74c3-4681-dd22-b5c8b7a9550e"
      },
      "execution_count": null,
      "outputs": [
        {
          "output_type": "stream",
          "name": "stdout",
          "text": [
            "Average of all elements: 3.5\n"
          ]
        }
      ]
    },
    {
      "cell_type": "markdown",
      "source": [
        "10.1 Basic Vector and Matrix Operation with Numpy."
      ],
      "metadata": {
        "id": "9JpAlnZJBpMx"
      }
    },
    {
      "cell_type": "markdown",
      "source": [
        "Problem - 1: Array Creation:"
      ],
      "metadata": {
        "id": "NTjOfFYjCIN3"
      }
    },
    {
      "cell_type": "code",
      "source": [
        "import numpy as np\n",
        "\n",
        "def numpy_array_operations():\n",
        "    \"\"\"\n",
        "    Performs basic vector and matrix operations using NumPy.\n",
        "\n",
        "    Returns:\n",
        "    dict: A dictionary containing results of different NumPy operations.\n",
        "    \"\"\"\n",
        "    results = {}\n",
        "\n",
        "    # 1. Initialize an empty array with size 2x2\n",
        "    results['empty_array'] = np.empty((2, 2))\n",
        "\n",
        "    # 2. Initialize an all-ones array with size 4x2\n",
        "    results['ones_array'] = np.ones((4, 2))\n",
        "\n",
        "    # 3. Return a new array of given shape and type, filled with a fill value\n",
        "    results['full_array'] = np.full((3, 3), 7)  # Example fill value: 7\n",
        "\n",
        "    # 4. Return a new array of zeros with the same shape and type as a given array\n",
        "    reference_array = np.array([[1, 2, 3], [4, 5, 6]])\n",
        "    results['zeros_like'] = np.zeros_like(reference_array)\n",
        "\n",
        "    # 5. Return a new array of ones with the same shape and type as a given array\n",
        "    results['ones_like'] = np.ones_like(reference_array)\n",
        "\n",
        "    # 6. Convert an existing list to a NumPy array\n",
        "    new_list = [1, 2, 3, 4]\n",
        "    results['numpy_array'] = np.array(new_list)\n",
        "\n",
        "    return results\n",
        "\n",
        "# Example usage:\n",
        "result_dict = numpy_array_operations()\n",
        "for key, value in result_dict.items():\n",
        "    print(f\"{key}:\\n{value}\\n\")\n"
      ],
      "metadata": {
        "colab": {
          "base_uri": "https://localhost:8080/"
        },
        "id": "9nM8TJTdCJ2D",
        "outputId": "97c0faa1-8f79-4532-ca47-8c7c1225c7bd"
      },
      "execution_count": null,
      "outputs": [
        {
          "output_type": "stream",
          "name": "stdout",
          "text": [
            "empty_array:\n",
            "[[2.78342830e-316 0.00000000e+000]\n",
            " [6.66179359e-310 5.30886346e+180]]\n",
            "\n",
            "ones_array:\n",
            "[[1. 1.]\n",
            " [1. 1.]\n",
            " [1. 1.]\n",
            " [1. 1.]]\n",
            "\n",
            "full_array:\n",
            "[[7 7 7]\n",
            " [7 7 7]\n",
            " [7 7 7]]\n",
            "\n",
            "zeros_like:\n",
            "[[0 0 0]\n",
            " [0 0 0]]\n",
            "\n",
            "ones_like:\n",
            "[[1 1 1]\n",
            " [1 1 1]]\n",
            "\n",
            "numpy_array:\n",
            "[1 2 3 4]\n",
            "\n"
          ]
        }
      ]
    },
    {
      "cell_type": "markdown",
      "source": [
        "Problem - 2: Array Manipulation: Numerical Ranges and Array indexing:"
      ],
      "metadata": {
        "id": "MJvjCaQvCTg6"
      }
    },
    {
      "cell_type": "code",
      "source": [
        "import numpy as np\n",
        "\n",
        "def numpy_array_operations():\n",
        "    \"\"\"\n",
        "    Performs basic vector and matrix operations using NumPy.\n",
        "\n",
        "    Returns:\n",
        "    dict: A dictionary containing results of different NumPy operations.\n",
        "    \"\"\"\n",
        "    results = {}\n",
        "\n",
        "    # 1. Initialize an empty array with size 2x2\n",
        "    results['empty_array'] = np.empty((2, 2))\n",
        "\n",
        "    # 2. Initialize an all-ones array with size 4x2\n",
        "    results['ones_array'] = np.ones((4, 2))\n",
        "\n",
        "    # 3. Return a new array of given shape and type, filled with a fill value\n",
        "    results['full_array'] = np.full((3, 3), 7)  # Example fill value: 7\n",
        "\n",
        "    # 4. Return a new array of zeros with the same shape and type as a given array\n",
        "    reference_array = np.array([[1, 2, 3], [4, 5, 6]])\n",
        "    results['zeros_like'] = np.zeros_like(reference_array)\n",
        "\n",
        "    # 5. Return a new array of ones with the same shape and type as a given array\n",
        "    results['ones_like'] = np.ones_like(reference_array)\n",
        "\n",
        "    # 6. Convert an existing list to a NumPy array\n",
        "    new_list = [1, 2, 3, 4]\n",
        "    results['numpy_array'] = np.array(new_list)\n",
        "\n",
        "    # 7. Create an array with values ranging from 10 to 49\n",
        "    results['range_array'] = np.arange(10, 50)\n",
        "\n",
        "    # 8. Create a 3x3 matrix with values ranging from 0 to 8\n",
        "    results['reshaped_matrix'] = np.arange(9).reshape((3, 3))\n",
        "\n",
        "    # 9. Create a 3x3 identity matrix\n",
        "    results['identity_matrix'] = np.eye(3)\n",
        "\n",
        "    # 10. Create a random array of size 30 and find the mean\n",
        "    random_array = np.random.random(30)\n",
        "    results['random_array'] = random_array\n",
        "    results['random_mean'] = random_array.mean()\n",
        "\n",
        "    # 11. Create a 10x10 array with random values and find min and max\n",
        "    random_matrix = np.random.random((10, 10))\n",
        "    results['random_matrix'] = random_matrix\n",
        "    results['random_min'] = random_matrix.min()\n",
        "    results['random_max'] = random_matrix.max()\n",
        "\n",
        "    # 12. Create a zero array of size 10 and replace the 5th element with 1\n",
        "    zero_array = np.zeros(10)\n",
        "    zero_array[4] = 1  # Indexing starts at 0\n",
        "    results['zero_array_modified'] = zero_array\n",
        "\n",
        "    # 13. Reverse an array\n",
        "    arr = np.array([1, 2, 0, 0, 4, 0])\n",
        "    results['reversed_array'] = arr[::-1]\n",
        "\n",
        "    # 14. Create a 2D array with 1 on the border and 0 inside\n",
        "    border_array = np.ones((5, 5))\n",
        "    border_array[1:-1, 1:-1] = 0\n",
        "    results['border_array'] = border_array\n",
        "\n",
        "    # 15. Create an 8x8 matrix and fill it with a checkerboard pattern\n",
        "    checkerboard = np.zeros((8, 8), dtype=int)\n",
        "    checkerboard[1::2, ::2] = 1\n",
        "    checkerboard[::2, 1::2] = 1\n",
        "    results['checkerboard'] = checkerboard\n",
        "\n",
        "    return results\n",
        "\n",
        "# Example usage:\n",
        "result_dict = numpy_array_operations()\n",
        "for key, value in result_dict.items():\n",
        "    print(f\"{key}:\\n{value}\\n\")"
      ],
      "metadata": {
        "colab": {
          "base_uri": "https://localhost:8080/"
        },
        "id": "1D_cY94pCUIA",
        "outputId": "e839faf8-4f53-4540-983b-4eabce7b3d2f"
      },
      "execution_count": null,
      "outputs": [
        {
          "output_type": "stream",
          "name": "stdout",
          "text": [
            "empty_array:\n",
            "[[2.78342830e-316 0.00000000e+000]\n",
            " [6.66179359e-310 5.30886346e+180]]\n",
            "\n",
            "ones_array:\n",
            "[[1. 1.]\n",
            " [1. 1.]\n",
            " [1. 1.]\n",
            " [1. 1.]]\n",
            "\n",
            "full_array:\n",
            "[[7 7 7]\n",
            " [7 7 7]\n",
            " [7 7 7]]\n",
            "\n",
            "zeros_like:\n",
            "[[0 0 0]\n",
            " [0 0 0]]\n",
            "\n",
            "ones_like:\n",
            "[[1 1 1]\n",
            " [1 1 1]]\n",
            "\n",
            "numpy_array:\n",
            "[1 2 3 4]\n",
            "\n",
            "range_array:\n",
            "[10 11 12 13 14 15 16 17 18 19 20 21 22 23 24 25 26 27 28 29 30 31 32 33\n",
            " 34 35 36 37 38 39 40 41 42 43 44 45 46 47 48 49]\n",
            "\n",
            "reshaped_matrix:\n",
            "[[0 1 2]\n",
            " [3 4 5]\n",
            " [6 7 8]]\n",
            "\n",
            "identity_matrix:\n",
            "[[1. 0. 0.]\n",
            " [0. 1. 0.]\n",
            " [0. 0. 1.]]\n",
            "\n",
            "random_array:\n",
            "[0.94727481 0.42567945 0.56129441 0.63284085 0.88359556 0.41134143\n",
            " 0.24905511 0.53968126 0.8695703  0.2012943  0.93175055 0.54756038\n",
            " 0.30444134 0.80194092 0.92414509 0.38296655 0.12986249 0.50853516\n",
            " 0.7790511  0.92949501 0.51492036 0.89895358 0.29944676 0.7447268\n",
            " 0.93854909 0.95280439 0.79311242 0.4843833  0.87307569 0.58967335]\n",
            "\n",
            "random_mean:\n",
            "0.6350340600345556\n",
            "\n",
            "random_matrix:\n",
            "[[0.50771894 0.20516026 0.84101919 0.46778971 0.33837013 0.14001556\n",
            "  0.51399394 0.4579082  0.08225472 0.71063221]\n",
            " [0.14338879 0.08911378 0.68430878 0.97159291 0.68374292 0.31554907\n",
            "  0.01906389 0.55777289 0.13580276 0.08023601]\n",
            " [0.62540621 0.25427842 0.33192325 0.20029612 0.76257211 0.816498\n",
            "  0.93032324 0.82595491 0.21058872 0.37952983]\n",
            " [0.02495034 0.54356399 0.72802051 0.39514125 0.1239737  0.17442516\n",
            "  0.84655556 0.95678535 0.33211447 0.84110461]\n",
            " [0.45076349 0.97346753 0.13527548 0.36439059 0.46004055 0.78521226\n",
            "  0.39690148 0.12219614 0.13893574 0.27328974]\n",
            " [0.04466127 0.72240138 0.36786255 0.96360145 0.85785418 0.75598093\n",
            "  0.92956923 0.49349594 0.24552013 0.75965903]\n",
            " [0.36861999 0.28186403 0.91216547 0.6616862  0.69993464 0.29053806\n",
            "  0.07632598 0.79761254 0.35644397 0.54785847]\n",
            " [0.21370884 0.41841641 0.2594901  0.98615437 0.84064591 0.9008048\n",
            "  0.33495328 0.21268354 0.18769977 0.46137809]\n",
            " [0.0882357  0.58351395 0.17070783 0.72481381 0.13806948 0.57832838\n",
            "  0.08097988 0.99601685 0.79363922 0.25794925]\n",
            " [0.27564739 0.94345143 0.31118877 0.71589037 0.06088806 0.76331149\n",
            "  0.10807216 0.72792099 0.67862244 0.81372365]]\n",
            "\n",
            "random_min:\n",
            "0.019063885679442616\n",
            "\n",
            "random_max:\n",
            "0.9960168472756042\n",
            "\n",
            "zero_array_modified:\n",
            "[0. 0. 0. 0. 1. 0. 0. 0. 0. 0.]\n",
            "\n",
            "reversed_array:\n",
            "[0 4 0 0 2 1]\n",
            "\n",
            "border_array:\n",
            "[[1. 1. 1. 1. 1.]\n",
            " [1. 0. 0. 0. 1.]\n",
            " [1. 0. 0. 0. 1.]\n",
            " [1. 0. 0. 0. 1.]\n",
            " [1. 1. 1. 1. 1.]]\n",
            "\n",
            "checkerboard:\n",
            "[[0 1 0 1 0 1 0 1]\n",
            " [1 0 1 0 1 0 1 0]\n",
            " [0 1 0 1 0 1 0 1]\n",
            " [1 0 1 0 1 0 1 0]\n",
            " [0 1 0 1 0 1 0 1]\n",
            " [1 0 1 0 1 0 1 0]\n",
            " [0 1 0 1 0 1 0 1]\n",
            " [1 0 1 0 1 0 1 0]]\n",
            "\n"
          ]
        }
      ]
    },
    {
      "cell_type": "markdown",
      "source": [
        "Problem - 3: Array Operations:"
      ],
      "metadata": {
        "id": "tjj8BHjnCz0E"
      }
    },
    {
      "cell_type": "code",
      "source": [
        "import numpy as np\n",
        "\n",
        "def numpy_array_operations():\n",
        "    \"\"\"\n",
        "    Performs basic vector and matrix operations using NumPy.\n",
        "\n",
        "    Returns:\n",
        "    dict: A dictionary containing results of different NumPy operations.\n",
        "    \"\"\"\n",
        "    results = {}\n",
        "\n",
        "    # 1. Initialize an empty array with size 2x2\n",
        "    results['empty_array'] = np.empty((2, 2))\n",
        "\n",
        "    # 2. Initialize an all-ones array with size 4x2\n",
        "    results['ones_array'] = np.ones((4, 2))\n",
        "\n",
        "    # 3. Return a new array of given shape and type, filled with a fill value\n",
        "    results['full_array'] = np.full((3, 3), 7)  # Example fill value: 7\n",
        "\n",
        "    # 4. Return a new array of zeros with the same shape and type as a given array\n",
        "    reference_array = np.array([[1, 2, 3], [4, 5, 6]])\n",
        "    results['zeros_like'] = np.zeros_like(reference_array)\n",
        "\n",
        "    # 5. Return a new array of ones with the same shape and type as a given array\n",
        "    results['ones_like'] = np.ones_like(reference_array)\n",
        "\n",
        "    # 6. Convert an existing list to a NumPy array\n",
        "    new_list = [1, 2, 3, 4]\n",
        "    results['numpy_array'] = np.array(new_list)\n",
        "\n",
        "    # 7. Create an array with values ranging from 10 to 49\n",
        "    results['range_array'] = np.arange(10, 50)\n",
        "\n",
        "    # 8. Create a 3x3 matrix with values ranging from 0 to 8\n",
        "    results['reshaped_matrix'] = np.arange(9).reshape((3, 3))\n",
        "\n",
        "    # 9. Create a 3x3 identity matrix\n",
        "    results['identity_matrix'] = np.eye(3)\n",
        "\n",
        "    # 10. Create a random array of size 30 and find the mean\n",
        "    random_array = np.random.random(30)\n",
        "    results['random_array'] = random_array\n",
        "    results['random_mean'] = random_array.mean()\n",
        "\n",
        "    # 11. Create a 10x10 array with random values and find min and max\n",
        "    random_matrix = np.random.random((10, 10))\n",
        "    results['random_matrix'] = random_matrix\n",
        "    results['random_min'] = random_matrix.min()\n",
        "    results['random_max'] = random_matrix.max()\n",
        "\n",
        "    # 12. Create a zero array of size 10 and replace the 5th element with 1\n",
        "    zero_array = np.zeros(10)\n",
        "    zero_array[4] = 1  # Indexing starts at 0\n",
        "    results['zero_array_modified'] = zero_array\n",
        "\n",
        "    # 13. Reverse an array\n",
        "    arr = np.array([1, 2, 0, 0, 4, 0])\n",
        "    results['reversed_array'] = arr[::-1]\n",
        "\n",
        "    # 14. Create a 2D array with 1 on the border and 0 inside\n",
        "    border_array = np.ones((5, 5))\n",
        "    border_array[1:-1, 1:-1] = 0\n",
        "    results['border_array'] = border_array\n",
        "\n",
        "    # 15. Create an 8x8 matrix and fill it with a checkerboard pattern\n",
        "    checkerboard = np.zeros((8, 8), dtype=int)\n",
        "    checkerboard[1::2, ::2] = 1\n",
        "    checkerboard[::2, 1::2] = 1\n",
        "    results['checkerboard'] = checkerboard\n",
        "\n",
        "    # 16. Define arrays for operations\n",
        "    x = np.array([[1, 2], [3, 5]])\n",
        "    y = np.array([[5, 6], [7, 8]])\n",
        "    v = np.array([9, 10])\n",
        "    w = np.array([11, 12])\n",
        "\n",
        "    # 17. Perform array operations\n",
        "    results['array_addition'] = x + y\n",
        "    results['array_subtraction'] = x - y\n",
        "    results['array_multiplication'] = x * 2  # Multiplying by an integer\n",
        "    results['array_square'] = x ** 2  # Squaring elements\n",
        "\n",
        "    # 18. Compute dot products\n",
        "    results['dot_product_vw'] = np.dot(v, w)\n",
        "    results['dot_product_xv'] = np.dot(x, v)\n",
        "    results['dot_product_xy'] = np.dot(x, y)\n",
        "\n",
        "    # 19. Concatenate x and y along rows\n",
        "    results['concat_xy'] = np.concatenate((x, y), axis=0)\n",
        "\n",
        "    # 20. Concatenate v and w along columns\n",
        "    results['concat_vw'] = np.vstack((v, w))\n",
        "\n",
        "    # 21. Attempt to concatenate x and v (observe the error)\n",
        "    try:\n",
        "        results['concat_xv'] = np.concatenate((x, v), axis=0)\n",
        "    except ValueError as e:\n",
        "        results['concat_xv_error'] = str(e)\n",
        "\n",
        "    return results\n",
        "\n",
        "# Example usage:\n",
        "result_dict = numpy_array_operations()\n",
        "for key, value in result_dict.items():\n",
        "    print(f\"{key}:\\n{value}\\n\")\n"
      ],
      "metadata": {
        "colab": {
          "base_uri": "https://localhost:8080/"
        },
        "id": "VYXB8hDfC0WE",
        "outputId": "33fba87c-9735-410d-bbe2-ea65d061273a"
      },
      "execution_count": null,
      "outputs": [
        {
          "output_type": "stream",
          "name": "stdout",
          "text": [
            "empty_array:\n",
            "[[2.85648608e-316 0.00000000e+000]\n",
            " [2.86840917e-316 6.66179369e-310]]\n",
            "\n",
            "ones_array:\n",
            "[[1. 1.]\n",
            " [1. 1.]\n",
            " [1. 1.]\n",
            " [1. 1.]]\n",
            "\n",
            "full_array:\n",
            "[[7 7 7]\n",
            " [7 7 7]\n",
            " [7 7 7]]\n",
            "\n",
            "zeros_like:\n",
            "[[0 0 0]\n",
            " [0 0 0]]\n",
            "\n",
            "ones_like:\n",
            "[[1 1 1]\n",
            " [1 1 1]]\n",
            "\n",
            "numpy_array:\n",
            "[1 2 3 4]\n",
            "\n",
            "range_array:\n",
            "[10 11 12 13 14 15 16 17 18 19 20 21 22 23 24 25 26 27 28 29 30 31 32 33\n",
            " 34 35 36 37 38 39 40 41 42 43 44 45 46 47 48 49]\n",
            "\n",
            "reshaped_matrix:\n",
            "[[0 1 2]\n",
            " [3 4 5]\n",
            " [6 7 8]]\n",
            "\n",
            "identity_matrix:\n",
            "[[1. 0. 0.]\n",
            " [0. 1. 0.]\n",
            " [0. 0. 1.]]\n",
            "\n",
            "random_array:\n",
            "[9.97408664e-01 1.13815209e-01 4.44754319e-01 9.49223367e-01\n",
            " 9.96719886e-01 7.99362818e-01 1.29421979e-01 4.10919477e-01\n",
            " 4.95780789e-01 6.02652212e-01 4.63089426e-01 5.57694972e-01\n",
            " 5.96843400e-01 8.73675995e-04 2.55334011e-01 8.44461345e-01\n",
            " 2.77977717e-01 6.30530794e-01 2.36214469e-01 7.89704378e-01\n",
            " 9.79260969e-01 2.84266087e-01 7.54115894e-01 5.69747554e-01\n",
            " 6.56828655e-01 9.52190459e-01 2.57083467e-01 8.71822624e-02\n",
            " 3.54979289e-01 7.62624183e-01]\n",
            "\n",
            "random_mean:\n",
            "0.5417020575454141\n",
            "\n",
            "random_matrix:\n",
            "[[0.17472673 0.66519779 0.41509232 0.20735525 0.74911899 0.72591609\n",
            "  0.97081916 0.44538126 0.21162906 0.2950152 ]\n",
            " [0.57712048 0.15602896 0.28727942 0.64416554 0.13451632 0.20338921\n",
            "  0.2907659  0.75110387 0.30043871 0.98856617]\n",
            " [0.14249112 0.65801827 0.04062868 0.77286097 0.18412516 0.78793548\n",
            "  0.80800485 0.00200363 0.42108851 0.25406482]\n",
            " [0.33638086 0.98948015 0.61610765 0.37078441 0.53128725 0.18038413\n",
            "  0.65612631 0.50030471 0.12388985 0.21427871]\n",
            " [0.59839184 0.3456506  0.50510839 0.72479905 0.29697228 0.84954427\n",
            "  0.78016056 0.15474542 0.29543973 0.2076057 ]\n",
            " [0.53006782 0.73155297 0.08614573 0.34490005 0.16411035 0.33005925\n",
            "  0.33652222 0.31862085 0.00918366 0.82309869]\n",
            " [0.43809023 0.99796009 0.28785473 0.9620766  0.70463328 0.77872414\n",
            "  0.50721416 0.33705239 0.63682624 0.51306548]\n",
            " [0.49299291 0.6027835  0.27759556 0.76827091 0.36733824 0.45262904\n",
            "  0.24201356 0.60938379 0.16372077 0.29600339]\n",
            " [0.55500436 0.03656286 0.11826718 0.40495271 0.47428778 0.49179433\n",
            "  0.6438584  0.80697798 0.14953911 0.5022882 ]\n",
            " [0.17064406 0.84917888 0.5260971  0.38418327 0.94244759 0.90099056\n",
            "  0.11122084 0.76394018 0.61647272 0.57988837]]\n",
            "\n",
            "random_min:\n",
            "0.002003630162140446\n",
            "\n",
            "random_max:\n",
            "0.9979600939521566\n",
            "\n",
            "zero_array_modified:\n",
            "[0. 0. 0. 0. 1. 0. 0. 0. 0. 0.]\n",
            "\n",
            "reversed_array:\n",
            "[0 4 0 0 2 1]\n",
            "\n",
            "border_array:\n",
            "[[1. 1. 1. 1. 1.]\n",
            " [1. 0. 0. 0. 1.]\n",
            " [1. 0. 0. 0. 1.]\n",
            " [1. 0. 0. 0. 1.]\n",
            " [1. 1. 1. 1. 1.]]\n",
            "\n",
            "checkerboard:\n",
            "[[0 1 0 1 0 1 0 1]\n",
            " [1 0 1 0 1 0 1 0]\n",
            " [0 1 0 1 0 1 0 1]\n",
            " [1 0 1 0 1 0 1 0]\n",
            " [0 1 0 1 0 1 0 1]\n",
            " [1 0 1 0 1 0 1 0]\n",
            " [0 1 0 1 0 1 0 1]\n",
            " [1 0 1 0 1 0 1 0]]\n",
            "\n",
            "array_addition:\n",
            "[[ 6  8]\n",
            " [10 13]]\n",
            "\n",
            "array_subtraction:\n",
            "[[-4 -4]\n",
            " [-4 -3]]\n",
            "\n",
            "array_multiplication:\n",
            "[[ 2  4]\n",
            " [ 6 10]]\n",
            "\n",
            "array_square:\n",
            "[[ 1  4]\n",
            " [ 9 25]]\n",
            "\n",
            "dot_product_vw:\n",
            "219\n",
            "\n",
            "dot_product_xv:\n",
            "[29 77]\n",
            "\n",
            "dot_product_xy:\n",
            "[[19 22]\n",
            " [50 58]]\n",
            "\n",
            "concat_xy:\n",
            "[[1 2]\n",
            " [3 5]\n",
            " [5 6]\n",
            " [7 8]]\n",
            "\n",
            "concat_vw:\n",
            "[[ 9 10]\n",
            " [11 12]]\n",
            "\n",
            "concat_xv_error:\n",
            "all the input arrays must have same number of dimensions, but the array at index 0 has 2 dimension(s) and the array at index 1 has 1 dimension(s)\n",
            "\n"
          ]
        }
      ]
    },
    {
      "cell_type": "markdown",
      "source": [
        "Problem - 4: Matrix Operations:"
      ],
      "metadata": {
        "id": "qSZl7gE2Ds9O"
      }
    },
    {
      "cell_type": "code",
      "source": [
        "import numpy as np\n",
        "\n",
        "# Given matrices\n",
        "A = np.array([[3, 4], [7, 8]])\n",
        "B = np.array([[5, 3], [2, 1]])\n",
        "\n",
        "# 1. Prove A * A⁻¹ = I\n",
        "A_inv = np.linalg.inv(A)\n",
        "identity_matrix = np.dot(A, A_inv)\n",
        "print(\"A * A⁻¹ = I:\")\n",
        "print(identity_matrix)\n",
        "\n",
        "# 2. Prove AB ≠ BA\n",
        "AB = np.dot(A, B)\n",
        "BA = np.dot(B, A)\n",
        "is_commutative = np.array_equal(AB, BA)\n",
        "print(\"\\nAB:\")\n",
        "print(AB)\n",
        "print(\"\\nBA:\")\n",
        "print(BA)\n",
        "print(\"\\nAB == BA:\", is_commutative)\n",
        "\n",
        "# 3. Prove (AB)ᵀ = BᵀAᵀ\n",
        "AB_transpose = np.transpose(AB)\n",
        "BT_AT = np.dot(np.transpose(B), np.transpose(A))\n",
        "is_transpose_property_valid = np.array_equal(AB_transpose, BT_AT)\n",
        "print(\"\\n(AB)ᵀ:\")\n",
        "print(AB_transpose)\n",
        "print(\"\\nBᵀ Aᵀ:\")\n",
        "print(BT_AT)\n",
        "print(\"\\n(AB)ᵀ == Bᵀ Aᵀ:\", is_transpose_property_valid)\n",
        "\n",
        "# Solve the system of linear equations using inverse method\n",
        "# 2x - 3y + z = -1\n",
        "# x - y + 2z = -3\n",
        "# 3x + y - z = 9\n",
        "\n",
        "# Represent as AX = B\n",
        "A_matrix = np.array([[2, -3, 1], [1, -1, 2], [3, 1, -1]])\n",
        "B_matrix = np.array([-1, -3, 9])\n",
        "\n",
        "# Solve for X using inverse\n",
        "A_inverse = np.linalg.inv(A_matrix)\n",
        "X_solution = np.dot(A_inverse, B_matrix)\n",
        "print(\"\\nSolution to the system of linear equations (AX = B):\")\n",
        "print(X_solution)\n"
      ],
      "metadata": {
        "colab": {
          "base_uri": "https://localhost:8080/"
        },
        "id": "H5NWetgtDxcc",
        "outputId": "b87a7616-6629-4416-9115-429982f1ddd2"
      },
      "execution_count": null,
      "outputs": [
        {
          "output_type": "stream",
          "name": "stdout",
          "text": [
            "A * A⁻¹ = I:\n",
            "[[1.00000000e+00 0.00000000e+00]\n",
            " [1.77635684e-15 1.00000000e+00]]\n",
            "\n",
            "AB:\n",
            "[[23 13]\n",
            " [51 29]]\n",
            "\n",
            "BA:\n",
            "[[36 44]\n",
            " [13 16]]\n",
            "\n",
            "AB == BA: False\n",
            "\n",
            "(AB)ᵀ:\n",
            "[[23 51]\n",
            " [13 29]]\n",
            "\n",
            "Bᵀ Aᵀ:\n",
            "[[23 51]\n",
            " [13 29]]\n",
            "\n",
            "(AB)ᵀ == Bᵀ Aᵀ: True\n",
            "\n",
            "Solution to the system of linear equations (AX = B):\n",
            "[ 2.  1. -2.]\n"
          ]
        }
      ]
    }
  ]
}